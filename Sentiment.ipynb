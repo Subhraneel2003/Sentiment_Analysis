{
 "cells": [
  {
   "cell_type": "code",
   "execution_count": 48,
   "id": "abdee38e",
   "metadata": {},
   "outputs": [
    {
     "name": "stdout",
     "output_type": "stream",
     "text": [
      "['IMDB Dataset.csv']\n"
     ]
    }
   ],
   "source": [
    "import numpy as np\n",
    "import pandas as pd\n",
    "import seaborn as sns\n",
    "import matplotlib.pyplot as plt\n",
    "import nltk\n",
    "from sklearn.feature_extraction.text import CountVectorizer\n",
    "from sklearn.feature_extraction.text import TfidfVectorizer\n",
    "from sklearn.preprocessing import LabelBinarizer\n",
    "from nltk.corpus import stopwords\n",
    "from wordcloud import WordCloud,STOPWORDS\n",
    "from nltk.tokenize import word_tokenize,sent_tokenize\n",
    "from bs4 import BeautifulSoup\n",
    "import spacy\n",
    "import re,string,unicodedata\n",
    "from nltk.tokenize.toktok import ToktokTokenizer\n",
    "from nltk.stem import LancasterStemmer,WordNetLemmatizer\n",
    "from sklearn.linear_model import LogisticRegression,SGDClassifier\n",
    "from sklearn.naive_bayes import MultinomialNB\n",
    "from sklearn.svm import SVC\n",
    "from textblob import TextBlob\n",
    "from textblob import Word\n",
    "from sklearn.metrics import classification_report,confusion_matrix,accuracy_score\n",
    "\n",
    "import os\n",
    "print(os.listdir(\"input\"))\n",
    "import warnings\n",
    "warnings.filterwarnings('ignore')"
   ]
  },
  {
   "cell_type": "code",
   "execution_count": 49,
   "id": "cc76c1fd",
   "metadata": {},
   "outputs": [
    {
     "data": {
      "text/html": [
       "<div>\n",
       "<style scoped>\n",
       "    .dataframe tbody tr th:only-of-type {\n",
       "        vertical-align: middle;\n",
       "    }\n",
       "\n",
       "    .dataframe tbody tr th {\n",
       "        vertical-align: top;\n",
       "    }\n",
       "\n",
       "    .dataframe thead th {\n",
       "        text-align: right;\n",
       "    }\n",
       "</style>\n",
       "<table border=\"1\" class=\"dataframe\">\n",
       "  <thead>\n",
       "    <tr style=\"text-align: right;\">\n",
       "      <th></th>\n",
       "      <th>review</th>\n",
       "      <th>sentiment</th>\n",
       "    </tr>\n",
       "  </thead>\n",
       "  <tbody>\n",
       "    <tr>\n",
       "      <th>0</th>\n",
       "      <td>One of the other reviewers has mentioned that ...</td>\n",
       "      <td>positive</td>\n",
       "    </tr>\n",
       "    <tr>\n",
       "      <th>1</th>\n",
       "      <td>A wonderful little production. &lt;br /&gt;&lt;br /&gt;The...</td>\n",
       "      <td>positive</td>\n",
       "    </tr>\n",
       "    <tr>\n",
       "      <th>2</th>\n",
       "      <td>I thought this was a wonderful way to spend ti...</td>\n",
       "      <td>positive</td>\n",
       "    </tr>\n",
       "    <tr>\n",
       "      <th>3</th>\n",
       "      <td>Basically there's a family where a little boy ...</td>\n",
       "      <td>negative</td>\n",
       "    </tr>\n",
       "    <tr>\n",
       "      <th>4</th>\n",
       "      <td>Petter Mattei's \"Love in the Time of Money\" is...</td>\n",
       "      <td>positive</td>\n",
       "    </tr>\n",
       "  </tbody>\n",
       "</table>\n",
       "</div>"
      ],
      "text/plain": [
       "                                              review sentiment\n",
       "0  One of the other reviewers has mentioned that ...  positive\n",
       "1  A wonderful little production. <br /><br />The...  positive\n",
       "2  I thought this was a wonderful way to spend ti...  positive\n",
       "3  Basically there's a family where a little boy ...  negative\n",
       "4  Petter Mattei's \"Love in the Time of Money\" is...  positive"
      ]
     },
     "execution_count": 49,
     "metadata": {},
     "output_type": "execute_result"
    }
   ],
   "source": [
    "imdb_data=pd.read_csv(\"input/IMDB Dataset.csv\")\n",
    "imdb_data.head()"
   ]
  },
  {
   "cell_type": "code",
   "execution_count": 50,
   "id": "81b54fa7",
   "metadata": {},
   "outputs": [
    {
     "data": {
      "text/html": [
       "<div>\n",
       "<style scoped>\n",
       "    .dataframe tbody tr th:only-of-type {\n",
       "        vertical-align: middle;\n",
       "    }\n",
       "\n",
       "    .dataframe tbody tr th {\n",
       "        vertical-align: top;\n",
       "    }\n",
       "\n",
       "    .dataframe thead th {\n",
       "        text-align: right;\n",
       "    }\n",
       "</style>\n",
       "<table border=\"1\" class=\"dataframe\">\n",
       "  <thead>\n",
       "    <tr style=\"text-align: right;\">\n",
       "      <th></th>\n",
       "      <th>review</th>\n",
       "      <th>sentiment</th>\n",
       "    </tr>\n",
       "  </thead>\n",
       "  <tbody>\n",
       "    <tr>\n",
       "      <th>count</th>\n",
       "      <td>50000</td>\n",
       "      <td>50000</td>\n",
       "    </tr>\n",
       "    <tr>\n",
       "      <th>unique</th>\n",
       "      <td>49582</td>\n",
       "      <td>2</td>\n",
       "    </tr>\n",
       "    <tr>\n",
       "      <th>top</th>\n",
       "      <td>Loved today's show!!! It was a variety and not...</td>\n",
       "      <td>positive</td>\n",
       "    </tr>\n",
       "    <tr>\n",
       "      <th>freq</th>\n",
       "      <td>5</td>\n",
       "      <td>25000</td>\n",
       "    </tr>\n",
       "  </tbody>\n",
       "</table>\n",
       "</div>"
      ],
      "text/plain": [
       "                                                   review sentiment\n",
       "count                                               50000     50000\n",
       "unique                                              49582         2\n",
       "top     Loved today's show!!! It was a variety and not...  positive\n",
       "freq                                                    5     25000"
      ]
     },
     "execution_count": 50,
     "metadata": {},
     "output_type": "execute_result"
    }
   ],
   "source": [
    "imdb_data.describe()"
   ]
  },
  {
   "cell_type": "code",
   "execution_count": 51,
   "id": "2161056d",
   "metadata": {},
   "outputs": [
    {
     "data": {
      "text/plain": [
       "sentiment\n",
       "positive    25000\n",
       "negative    25000\n",
       "Name: count, dtype: int64"
      ]
     },
     "execution_count": 51,
     "metadata": {},
     "output_type": "execute_result"
    }
   ],
   "source": [
    "#sentiment count\n",
    "imdb_data['sentiment'].value_counts()"
   ]
  },
  {
   "cell_type": "code",
   "execution_count": 52,
   "id": "2e2b889c",
   "metadata": {},
   "outputs": [
    {
     "name": "stdout",
     "output_type": "stream",
     "text": [
      "(40000,)\n",
      "(40000,)\n",
      "(10000,)\n",
      "(10000,)\n"
     ]
    }
   ],
   "source": [
    "train_reviews=imdb_data.review[:40000]\n",
    "train_sentiment=imdb_data.sentiment[:40000]\n",
    "test_reviews=imdb_data.review[40000:]\n",
    "test_sentiment=imdb_data.sentiment[40000:]\n",
    "print(train_reviews.shape)\n",
    "print(train_sentiment.shape)\n",
    "print(test_reviews.shape)\n",
    "print(test_sentiment.shape)"
   ]
  },
  {
   "cell_type": "markdown",
   "id": "72932a94",
   "metadata": {},
   "source": [
    "Text Normalization"
   ]
  },
  {
   "cell_type": "code",
   "execution_count": 53,
   "id": "c0084d96",
   "metadata": {},
   "outputs": [],
   "source": [
    "#Tokenization of words\n",
    "tokenizer=ToktokTokenizer()\n",
    "stopword_list=nltk.corpus.stopwords.words('english')"
   ]
  },
  {
   "cell_type": "markdown",
   "id": "7fe9698c",
   "metadata": {},
   "source": [
    "Remove HTML strips and noise text"
   ]
  },
  {
   "cell_type": "code",
   "execution_count": 54,
   "id": "1ac32cbf",
   "metadata": {},
   "outputs": [],
   "source": [
    "def strip_html(text):\n",
    "    soup=BeautifulSoup(text,'html.parser')\n",
    "    return soup.get_text()\n",
    "\n",
    "#removing square brackets\n",
    "def remove_between_square_brackets(text):\n",
    "    return re.sub('\\[[^]]*\\]', '', text)\n",
    "\n",
    "def denoise_text(text):\n",
    "    text=strip_html(text)\n",
    "    text=remove_between_square_brackets(text)\n",
    "    return text\n",
    "\n",
    "imdb_data['review']=imdb_data['review'].apply(denoise_text)"
   ]
  },
  {
   "cell_type": "markdown",
   "id": "8c41aa0f",
   "metadata": {},
   "source": [
    "Remove Special Characters"
   ]
  },
  {
   "cell_type": "code",
   "execution_count": 55,
   "id": "6d65fbd1",
   "metadata": {},
   "outputs": [],
   "source": [
    "def remove_special_characters(text):\n",
    "    pattern=r'[^a-zA-Z0-9\\s]'\n",
    "    text=re.sub(pattern,'',text)\n",
    "    return text\n",
    "imdb_data['review']=imdb_data['review'].apply(remove_special_characters)"
   ]
  },
  {
   "cell_type": "markdown",
   "id": "2b59b350",
   "metadata": {},
   "source": [
    "Lemmatization\n"
   ]
  },
  {
   "cell_type": "code",
   "execution_count": 56,
   "id": "aff834d6",
   "metadata": {},
   "outputs": [],
   "source": [
    "def simple_lemmatization(text):\n",
    "    lm=WordNetLemmatizer()\n",
    "    text=' '.join(lm.lemmatize(word) for word in text.split())\n",
    "    return text\n",
    "\n",
    "imdb_data['review']=imdb_data['review'].apply(simple_lemmatization)"
   ]
  },
  {
   "cell_type": "markdown",
   "id": "409b354b",
   "metadata": {},
   "source": [
    "Stop Word Removal"
   ]
  },
  {
   "cell_type": "code",
   "execution_count": 57,
   "id": "e0f78d4c",
   "metadata": {},
   "outputs": [
    {
     "name": "stdout",
     "output_type": "stream",
     "text": [
      "['a', 'about', 'above', 'after', 'again', 'against', 'ain', 'all', 'am', 'an', 'and', 'any', 'are', 'aren', \"aren't\", 'as', 'at', 'be', 'because', 'been', 'before', 'being', 'below', 'between', 'both', 'but', 'by', 'can', 'couldn', \"couldn't\", 'd', 'did', 'didn', \"didn't\", 'do', 'does', 'doesn', \"doesn't\", 'doing', 'don', \"don't\", 'down', 'during', 'each', 'few', 'for', 'from', 'further', 'had', 'hadn', \"hadn't\", 'has', 'hasn', \"hasn't\", 'have', 'haven', \"haven't\", 'having', 'he', \"he'd\", \"he'll\", 'her', 'here', 'hers', 'herself', \"he's\", 'him', 'himself', 'his', 'how', 'i', \"i'd\", 'if', \"i'll\", \"i'm\", 'in', 'into', 'is', 'isn', \"isn't\", 'it', \"it'd\", \"it'll\", \"it's\", 'its', 'itself', \"i've\", 'just', 'll', 'm', 'ma', 'me', 'mightn', \"mightn't\", 'more', 'most', 'mustn', \"mustn't\", 'my', 'myself', 'needn', \"needn't\", 'no', 'nor', 'not', 'now', 'o', 'of', 'off', 'on', 'once', 'only', 'or', 'other', 'our', 'ours', 'ourselves', 'out', 'over', 'own', 're', 's', 'same', 'shan', \"shan't\", 'she', \"she'd\", \"she'll\", \"she's\", 'should', 'shouldn', \"shouldn't\", \"should've\", 'so', 'some', 'such', 't', 'than', 'that', \"that'll\", 'the', 'their', 'theirs', 'them', 'themselves', 'then', 'there', 'these', 'they', \"they'd\", \"they'll\", \"they're\", \"they've\", 'this', 'those', 'through', 'to', 'too', 'under', 'until', 'up', 've', 'very', 'was', 'wasn', \"wasn't\", 'we', \"we'd\", \"we'll\", \"we're\", 'were', 'weren', \"weren't\", \"we've\", 'what', 'when', 'where', 'which', 'while', 'who', 'whom', 'why', 'will', 'with', 'won', \"won't\", 'wouldn', \"wouldn't\", 'y', 'you', \"you'd\", \"you'll\", 'your', \"you're\", 'yours', 'yourself', 'yourselves', \"you've\"]\n"
     ]
    }
   ],
   "source": [
    "stop=list(stopwords.words('english'))\n",
    "print(stop)\n",
    "\n",
    "def remove_stopwords(text, is_lower_case=False):\n",
    "    tokens = tokenizer.tokenize ( text )\n",
    "    if is_lower_case:\n",
    "        filtered_tokens=[token for token in tokens if token not in stopword_list ]\n",
    "    else:\n",
    "        filtered_tokens=[token for token in tokens if token.lower() not in stopword_list ]  \n",
    "    filtered_tokens=' '.join(filtered_tokens)      \n",
    "    return filtered_tokens\n",
    "\n",
    "imdb_data['review']=imdb_data['review'].apply(remove_stopwords)    "
   ]
  },
  {
   "cell_type": "markdown",
   "id": "07d602fa",
   "metadata": {},
   "source": [
    "BoW creates a vocabulary of all unique words in your dataset, and then represents each document (review) as a vector:\n",
    "\n",
    "Each position in the vector = a word in the vocabulary\n",
    "\n",
    "Value = how many times that word appears in the document"
   ]
  },
  {
   "cell_type": "code",
   "execution_count": 58,
   "id": "47a0426a",
   "metadata": {},
   "outputs": [
    {
     "name": "stdout",
     "output_type": "stream",
     "text": [
      "BOW_cv_train: (40000, 1370393)\n",
      "BOW_cv_test: (10000, 1370393)\n"
     ]
    }
   ],
   "source": [
    "cv=CountVectorizer(max_df=0.9,min_df=2,binary=False,ngram_range=(1,3))\n",
    "#transformed train reviews\n",
    "cv_train_reviews=cv.fit_transform(train_reviews)\n",
    "#transformed test reviews\n",
    "cv_test_reviews=cv.transform(test_reviews)\n",
    "print('BOW_cv_train:',cv_train_reviews.shape)\n",
    "print('BOW_cv_test:',cv_test_reviews.shape)"
   ]
  },
  {
   "cell_type": "markdown",
   "id": "c0156f10",
   "metadata": {},
   "source": [
    "TF-IDF stands for:\n",
    "\n",
    "TF = Term Frequency → How often a word appears in a document.\n",
    "\n",
    "IDF = Inverse Document Frequency → How rare the word is across all documents."
   ]
  },
  {
   "cell_type": "code",
   "execution_count": 59,
   "id": "14aa1a9e",
   "metadata": {},
   "outputs": [
    {
     "name": "stdout",
     "output_type": "stream",
     "text": [
      "TF_IDF_tv_train: (40000, 1370393)\n",
      "TF_IDF_tv_test: (10000, 1370393)\n"
     ]
    }
   ],
   "source": [
    "tv=TfidfVectorizer(max_df=0.9,min_df=2,use_idf=True,ngram_range=(1,3))\n",
    "#transformed train reviews\n",
    "tv_train_reviews=cv.fit_transform(train_reviews)\n",
    "#transformed test reviews\n",
    "tv_test_reviews=cv.transform(test_reviews)\n",
    "print('TF_IDF_tv_train:',tv_train_reviews.shape)\n",
    "print('TF_IDF_tv_test:',tv_test_reviews.shape)"
   ]
  },
  {
   "cell_type": "markdown",
   "id": "3656412f",
   "metadata": {},
   "source": [
    "Conversion of sentiment data to vector"
   ]
  },
  {
   "cell_type": "code",
   "execution_count": 60,
   "id": "8a6a699d",
   "metadata": {},
   "outputs": [
    {
     "name": "stdout",
     "output_type": "stream",
     "text": [
      "(50000, 1)\n"
     ]
    }
   ],
   "source": [
    "#LabelBinarizer\n",
    "lb=LabelBinarizer()\n",
    "sentiment_data=lb.fit_transform(imdb_data['sentiment'])\n",
    "print(sentiment_data.shape)\n"
   ]
  },
  {
   "cell_type": "markdown",
   "id": "2b321440",
   "metadata": {},
   "source": [
    "Split the sentiment data"
   ]
  },
  {
   "cell_type": "code",
   "execution_count": 61,
   "id": "811238cd",
   "metadata": {},
   "outputs": [
    {
     "name": "stdout",
     "output_type": "stream",
     "text": [
      "[[1]\n",
      " [1]\n",
      " [1]\n",
      " ...\n",
      " [1]\n",
      " [0]\n",
      " [0]]\n",
      "[[0]\n",
      " [0]\n",
      " [0]\n",
      " ...\n",
      " [0]\n",
      " [0]\n",
      " [0]]\n"
     ]
    }
   ],
   "source": [
    "train_v_sentiments=sentiment_data[:40000]\n",
    "test_v_sentiments=sentiment_data[40000:]\n",
    "print(train_v_sentiments)\n",
    "print(test_v_sentiments)"
   ]
  },
  {
   "cell_type": "markdown",
   "id": "dec1120f",
   "metadata": {},
   "source": [
    "Modelling the dataset\n",
    "1) Logistic Regression --> Regularization(Adding Penalty to avoid overfitting)"
   ]
  },
  {
   "cell_type": "code",
   "execution_count": 62,
   "id": "5594e288",
   "metadata": {},
   "outputs": [
    {
     "name": "stdout",
     "output_type": "stream",
     "text": [
      "LogisticRegression(C=1, max_iter=500, random_state=42)\n",
      "LogisticRegression(C=1, max_iter=500, random_state=42)\n"
     ]
    }
   ],
   "source": [
    "lr=LogisticRegression(penalty='l2',C=1,max_iter=500,random_state=42)\n",
    "#BOW MODEL\n",
    "lr_Bow=lr.fit(cv_train_reviews,train_v_sentiments)\n",
    "print(lr_Bow)\n",
    "#tf-idf \n",
    "lr_tf_idf=lr.fit(tv_train_reviews,train_v_sentiments)\n",
    "print(lr_tf_idf)"
   ]
  },
  {
   "cell_type": "markdown",
   "id": "29fd8193",
   "metadata": {},
   "source": [
    "Prediction of LR model"
   ]
  },
  {
   "cell_type": "code",
   "execution_count": 65,
   "id": "23dddbfc",
   "metadata": {},
   "outputs": [
    {
     "name": "stdout",
     "output_type": "stream",
     "text": [
      "[0 0 0 ... 1 0 0]\n",
      "[0 0 0 ... 1 0 0]\n"
     ]
    }
   ],
   "source": [
    "lr_bow_predict=lr.predict(cv_test_reviews)\n",
    "print(lr_bow_predict)\n",
    "lr_tfidf_predict=lr.predict(tv_test_reviews)\n",
    "print(lr_tfidf_predict)"
   ]
  },
  {
   "cell_type": "markdown",
   "id": "924f1d2f",
   "metadata": {},
   "source": [
    "Accuracy\n"
   ]
  },
  {
   "cell_type": "code",
   "execution_count": 68,
   "id": "d5fa93df",
   "metadata": {},
   "outputs": [
    {
     "name": "stdout",
     "output_type": "stream",
     "text": [
      "0.907\n",
      "0.907\n"
     ]
    }
   ],
   "source": [
    "lr_bow_accuracy=accuracy_score(test_v_sentiments,lr_bow_predict)\n",
    "print(lr_bow_accuracy)\n",
    "lr_tfidf_accuracy=accuracy_score(test_v_sentiments,lr_tfidf_predict)\n",
    "print(lr_tfidf_accuracy)"
   ]
  }
 ],
 "metadata": {
  "kernelspec": {
   "display_name": "Python 3",
   "language": "python",
   "name": "python3"
  },
  "language_info": {
   "codemirror_mode": {
    "name": "ipython",
    "version": 3
   },
   "file_extension": ".py",
   "mimetype": "text/x-python",
   "name": "python",
   "nbconvert_exporter": "python",
   "pygments_lexer": "ipython3",
   "version": "3.12.4"
  }
 },
 "nbformat": 4,
 "nbformat_minor": 5
}
